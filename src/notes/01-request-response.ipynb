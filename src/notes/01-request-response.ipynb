{
 "cells": [
  {
   "cell_type": "markdown",
   "metadata": {},
   "source": [
    "## Request-Response Model\n",
    "\n",
    "1. Client sends a request.\n",
    "2. Server parses the request.\n",
    "3. Server processes the request.\n",
    "4. Server sends a response. \n",
    "5. Client parses the response and consume"
   ]
  },
  {
   "cell_type": "markdown",
   "metadata": {},
   "source": [
    "## Where is it used?\n",
    "\n",
    "- Web, HTTP, DNS, SSH\n",
    "- RPC (remote procedure call)\n",
    "- SQL and database protocols\n",
    "- APIs (REST/SOAP/GraphQL)"
   ]
  },
  {
   "cell_type": "markdown",
   "metadata": {},
   "source": [
    "## Anatomy of a request/response\n",
    "\n",
    "- A request structure is defined both by client and server\n",
    "- Request has a boundary and its defined by a protocol and the message format of it\n",
    "- Same for the response"
   ]
  },
  {
   "cell_type": "markdown",
   "metadata": {},
   "source": [
    "## Building an image uploading service with request-response model\n",
    "\n",
    "- One way is to send a large request with the image (simplest)\n",
    "- Chunk the image and send a request per chunk (resumable)"
   ]
  },
  {
   "cell_type": "markdown",
   "metadata": {},
   "source": [
    "## Where doesn't request-response work?\n",
    "\n",
    "- Very long running requests - What if the client disconnects?\n",
    "- Notification services\n",
    "- Chatting applications\n",
    "\n",
    "**Note:** You could use polling method but there would be a huge latency and a lot of empty requests:"
   ]
  },
  {
   "cell_type": "markdown",
   "metadata": {},
   "source": [
    "## An example"
   ]
  },
  {
   "cell_type": "code",
   "execution_count": 7,
   "metadata": {
    "vscode": {
     "languageId": "shellscript"
    }
   },
   "outputs": [
    {
     "name": "stderr",
     "output_type": "stream",
     "text": [
      "Warning: --trace overrides an earlier trace/verbose option\n",
      "  % Total    % Received % Xferd  Average Speed   Time    Time     Time  Current\n",
      "                                 Dload  Upload   Total   Spent    Left  Speed\n",
      "100   219  100   219    0     0   1843      0 --:--:-- --:--:-- --:--:--  1855\n"
     ]
    },
    {
     "name": "stdout",
     "output_type": "stream",
     "text": [
      "<HTML><HEAD><meta http-equiv=\"content-type\" content=\"text/html;charset=utf-8\">\n",
      "<TITLE>301 Moved</TITLE></HEAD><BODY>\n",
      "<H1>301 Moved</H1>\n",
      "The document has moved\n",
      "<A HREF=\"http://www.google.com/\">here</A>.\n",
      "</BODY></HTML>\n"
     ]
    }
   ],
   "source": [
    "%%sh\n",
    "curl -v --trace out.txt http://google.com"
   ]
  }
 ],
 "metadata": {
  "kernelspec": {
   "display_name": "Python 3",
   "language": "python",
   "name": "python3"
  },
  "language_info": {
   "codemirror_mode": {
    "name": "ipython",
    "version": 3
   },
   "file_extension": ".py",
   "mimetype": "text/x-python",
   "name": "python",
   "nbconvert_exporter": "python",
   "pygments_lexer": "ipython3",
   "version": "3.11.6"
  }
 },
 "nbformat": 4,
 "nbformat_minor": 2
}
