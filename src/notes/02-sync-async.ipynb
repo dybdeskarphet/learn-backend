{
 "cells": [
  {
   "cell_type": "markdown",
   "metadata": {},
   "source": [
    "## Synchronous I/O\n",
    "\n",
    "- Caller sends a reqeust and blocks\n",
    "- Caller cannot execute any code meanwhile\n",
    "- Receiver responds, caller unblocks\n",
    "- As the name suggests, caller and receiver are in **sync**."
   ]
  },
  {
   "cell_type": "markdown",
   "metadata": {},
   "source": [
    "### Example of an OS synchronous I/O\n",
    "\n",
    "- Programs asks OS to read from disk\n",
    "- Main threaf of a program is taken off of the CPU"
   ]
  }
 ],
 "metadata": {
  "language_info": {
   "name": "python"
  }
 },
 "nbformat": 4,
 "nbformat_minor": 2
}
